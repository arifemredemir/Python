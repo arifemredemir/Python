{
 "cells": [
  {
   "cell_type": "markdown",
   "id": "e4c29314-80ff-4852-95da-c8213bd23da4",
   "metadata": {},
   "source": [
    "**Sort the datas using sorted() :**"
   ]
  },
  {
   "cell_type": "code",
   "execution_count": 10,
   "id": "bd93c68e-3bef-4d1a-8d6f-140318077a7b",
   "metadata": {},
   "outputs": [
    {
     "data": {
      "text/plain": [
       "[1, 3, 5, 9, 11, 25]"
      ]
     },
     "execution_count": 10,
     "metadata": {},
     "output_type": "execute_result"
    }
   ],
   "source": [
    "# Sort the datas using sorted(data,reverse=True/False)\n",
    "data=[3,9,5,11,25,1]\n",
    "\n",
    "sorted_data=sorted(data)\n",
    "\n",
    "sorted_data"
   ]
  },
  {
   "cell_type": "code",
   "execution_count": 11,
   "id": "5f3f088e-99bc-4371-9b85-a965a1cb16ff",
   "metadata": {},
   "outputs": [
    {
     "data": {
      "text/plain": [
       "[{'name': 'Arif', 'Surname': 'Sağ', 'Age': 20},\n",
       " {'name': 'Mehmet', 'Surname': 'Demir', 'Age': 16},\n",
       " {'name': 'Emre', 'Surname': 'Direkt', 'Age': 13}]"
      ]
     },
     "execution_count": 11,
     "metadata": {},
     "output_type": "execute_result"
    }
   ],
   "source": [
    "#Sort the complex datas using sorted()\n",
    "dict_data=[{\"name\":\"Mehmet\",\"Surname\":\"Demir\",\"Age\":16},\n",
    "          {\"name\":\"Emre\",\"Surname\":\"Direkt\",\"Age\":13},\n",
    "          {\"name\":\"Arif\",\"Surname\":\"Sağ\",\"Age\":20}]\n",
    "\n",
    "sorted_dict_data=sorted(dict_data,key=lambda x: x[\"Age\"],reverse=True) #key value must be a function\n",
    "\n",
    "sorted_dict_data"
   ]
  },
  {
   "cell_type": "markdown",
   "id": "01c047cb-8eb6-497f-b091-2eb6e3a329d7",
   "metadata": {},
   "source": [
    "**Save large datas to memory using Generator:**"
   ]
  },
  {
   "cell_type": "code",
   "execution_count": 21,
   "id": "a3ef2fe8-6101-4e21-bd79-820f4ea8e3e7",
   "metadata": {},
   "outputs": [
    {
     "name": "stdout",
     "output_type": "stream",
     "text": [
      "49999995000000\n",
      "89095160 bytes\n",
      "49999995000000\n",
      "104 bytes\n"
     ]
    }
   ],
   "source": [
    "import sys\n",
    "myData=[i for i in range(10000000)]\n",
    "print(sum(myData))\n",
    "print(sys.getsizeof(myData),\"bytes\")\n",
    "\n",
    "# with a genearator function:\n",
    "\n",
    "myGen=(i for i in range(10000000))\n",
    "print(sum(myGen))\n",
    "print(sys.getsizeof(myGen),\"bytes\")"
   ]
  },
  {
   "cell_type": "markdown",
   "id": "d850e3ee-fb35-4c91-856d-bf8556eb3a9e",
   "metadata": {},
   "source": [
    "**Count the datas using Counter():**"
   ]
  },
  {
   "cell_type": "code",
   "execution_count": 23,
   "id": "61a9a668-451b-468a-85dc-b3b65b0fe3c8",
   "metadata": {},
   "outputs": [
    {
     "data": {
      "text/plain": [
       "Counter({1: 3, 2: 3, 3: 7, 7: 6, 9: 5})"
      ]
     },
     "execution_count": 23,
     "metadata": {},
     "output_type": "execute_result"
    }
   ],
   "source": [
    "from collections import Counter\n",
    "\n",
    "X_data=[1,1,1,2,2,2,3,3,3,3,3,3,3,7,7,7,7,7,7,9,9,9,9,9]\n",
    "\n",
    "Counter(X_data)"
   ]
  },
  {
   "cell_type": "markdown",
   "id": "4ec165e9-85e6-44f7-aeae-a86206e91ca0",
   "metadata": {},
   "source": [
    "**Join Method:**"
   ]
  },
  {
   "cell_type": "code",
   "execution_count": 26,
   "id": "ce9ea498-132f-45a9-9fce-42be60272e68",
   "metadata": {},
   "outputs": [
    {
     "name": "stdout",
     "output_type": "stream",
     "text": [
      "Hello my friend \n"
     ]
    }
   ],
   "source": [
    "# normally:\n",
    "\n",
    "x_list=[\"Hello\",\"my\",\"friend\"]\n",
    "\n",
    "mystring=\"\"\n",
    "for i in x_list:\n",
    "    mystring+= i+\" \"\n",
    "\n",
    "print(mystring)    "
   ]
  },
  {
   "cell_type": "code",
   "execution_count": 30,
   "id": "2b300ffc-a19a-4cd2-8262-74525cca4e3f",
   "metadata": {},
   "outputs": [
    {
     "data": {
      "text/plain": [
       "'Hello my friend'"
      ]
     },
     "execution_count": 30,
     "metadata": {},
     "output_type": "execute_result"
    }
   ],
   "source": [
    "# Use the join method:\n",
    "x_list=[\"Hello\",\"my\",\"friend\"]\n",
    "\n",
    "\" \".join(x_list)\n"
   ]
  },
  {
   "cell_type": "markdown",
   "id": "a3c95824-f02f-4af7-aef7-ebf41bc1f204",
   "metadata": {},
   "source": [
    "**Merge dictionaries:**"
   ]
  },
  {
   "cell_type": "code",
   "execution_count": 33,
   "id": "5d9443c9-0d4c-43a6-9df1-1bd628603c64",
   "metadata": {},
   "outputs": [
    {
     "data": {
      "text/plain": [
       "{'name': 'Ela', 'City': 'Newyork', 'Age': 15, 'No': 195}"
      ]
     },
     "execution_count": 33,
     "metadata": {},
     "output_type": "execute_result"
    }
   ],
   "source": [
    "dict_A={\"name\":\"Ela\",\"City\":\"Newyork\"}\n",
    "dict_B={\"name\":\"Ela\",\"Age\":15,\"No\":195}\n",
    "\n",
    "merge_dict={**dict_A,**dict_B}\n",
    "\n",
    "merge_dict"
   ]
  },
  {
   "cell_type": "markdown",
   "id": "403bee61-b789-471a-bcec-4e2f804fa932",
   "metadata": {},
   "source": [
    "**Simplify if statment for multiple checks:**"
   ]
  },
  {
   "cell_type": "code",
   "execution_count": 35,
   "id": "f58bb447-b021-4447-b02a-2c60a4f23bde",
   "metadata": {},
   "outputs": [
    {
     "name": "stdout",
     "output_type": "stream",
     "text": [
      "red is main color. \n"
     ]
    }
   ],
   "source": [
    "#Normally:\n",
    "colors=[\"red\",\"green\",\"blue\"]\n",
    "\n",
    "c=\"red\"\n",
    "\n",
    "if (c==\"red\" or c==\"green\" or c==\"blue\"):\n",
    "    print(f\"{c} is main color. \")"
   ]
  },
  {
   "cell_type": "code",
   "execution_count": 36,
   "id": "4b3047cb-3f3f-4cba-9ac4-90e39ddb008f",
   "metadata": {},
   "outputs": [
    {
     "name": "stdout",
     "output_type": "stream",
     "text": [
      "red is main color\n"
     ]
    }
   ],
   "source": [
    "#İnstead of using that, use the multiple checks\n",
    "\n",
    "colors=[\"red\",\"green\",\"blue\"]\n",
    "\n",
    "c=\"red\"\n",
    "\n",
    "if c in colors: #easier way\n",
    "    print(f\"{c} is main color\")"
   ]
  }
 ],
 "metadata": {
  "kernelspec": {
   "display_name": "Python 3 (ipykernel)",
   "language": "python",
   "name": "python3"
  },
  "language_info": {
   "codemirror_mode": {
    "name": "ipython",
    "version": 3
   },
   "file_extension": ".py",
   "mimetype": "text/x-python",
   "name": "python",
   "nbconvert_exporter": "python",
   "pygments_lexer": "ipython3",
   "version": "3.10.1"
  }
 },
 "nbformat": 4,
 "nbformat_minor": 5
}
